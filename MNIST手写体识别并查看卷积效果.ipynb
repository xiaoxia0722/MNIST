{
 "cells": [
  {
   "cell_type": "code",
   "execution_count": 1,
   "metadata": {
    "ExecuteTime": {
     "end_time": "2020-11-15T23:45:37.524021Z",
     "start_time": "2020-11-15T23:45:31.864933Z"
    }
   },
   "outputs": [],
   "source": [
    "# 导入相关包\n",
    "import pandas as pd\n",
    "import numpy as np\n",
    "import math\n",
    "import matplotlib as mpl\n",
    "import matplotlib.pyplot as plt\n",
    "import tensorflow as tf\n",
    "from tensorflow import keras"
   ]
  },
  {
   "cell_type": "code",
   "execution_count": 2,
   "metadata": {
    "ExecuteTime": {
     "end_time": "2020-11-15T23:45:37.698555Z",
     "start_time": "2020-11-15T23:45:37.526016Z"
    }
   },
   "outputs": [
    {
     "name": "stdout",
     "output_type": "stream",
     "text": [
      "当前设备的GPU数量 [PhysicalDevice(name='/physical_device:GPU:0', device_type='GPU')]\n"
     ]
    }
   ],
   "source": [
    "# 查看GPU个数\n",
    "print(\"当前设备的GPU数量\", tf.config.experimental.list_physical_devices('GPU'))\n",
    "# 开启查看运算在哪个GPU上\n",
    "tf.debugging.set_log_device_placement(False)"
   ]
  },
  {
   "cell_type": "code",
   "execution_count": 3,
   "metadata": {
    "ExecuteTime": {
     "end_time": "2020-11-15T23:45:38.122422Z",
     "start_time": "2020-11-15T23:45:37.704539Z"
    }
   },
   "outputs": [],
   "source": [
    "# 获取tensorflow中keras上的MNIST数据集\n",
    "mnist = keras.datasets.mnist\n",
    "\n",
    "(x_train, y_train), (x_test, y_test) = mnist.load_data()"
   ]
  },
  {
   "cell_type": "code",
   "execution_count": 4,
   "metadata": {
    "ExecuteTime": {
     "end_time": "2020-11-15T23:45:38.132395Z",
     "start_time": "2020-11-15T23:45:38.124417Z"
    }
   },
   "outputs": [
    {
     "data": {
      "text/plain": [
       "((60000, 28, 28), (60000,), (10000, 28, 28), (10000,))"
      ]
     },
     "execution_count": 4,
     "metadata": {},
     "output_type": "execute_result"
    }
   ],
   "source": [
    "# 查看训练集。数据集的reshape\n",
    "x_train.shape, y_train.shape, x_test.shape, y_test.shape"
   ]
  },
  {
   "cell_type": "code",
   "execution_count": 5,
   "metadata": {
    "ExecuteTime": {
     "end_time": "2020-11-15T23:45:38.287026Z",
     "start_time": "2020-11-15T23:45:38.134391Z"
    }
   },
   "outputs": [
    {
     "data": {
      "text/plain": [
       "<matplotlib.image.AxesImage at 0x1f7645d0ac8>"
      ]
     },
     "execution_count": 5,
     "metadata": {},
     "output_type": "execute_result"
    },
    {
     "data": {
      "image/png": "[encoded data removed]",
      "text/plain": [
       "<Figure size 432x288 with 1 Axes>"
      ]
     },
     "metadata": {
      "needs_background": "light"
     },
     "output_type": "display_data"
    }
   ],
   "source": [
    "# 训练集第一张图片\n",
    "plt.imshow(x_train[0])"
   ]
  },
  {
   "cell_type": "code",
   "execution_count": 22,
   "metadata": {
    "ExecuteTime": {
     "end_time": "2020-11-16T00:05:44.734497Z",
     "start_time": "2020-11-16T00:05:44.622687Z"
    }
   },
   "outputs": [
    {
     "name": "stdout",
     "output_type": "stream",
     "text": [
      "Model: \"model_4\"\n",
      "_________________________________________________________________\n",
      "Layer (type)                 Output Shape              Param #   \n",
      "=================================================================\n",
      "input_6 (InputLayer)         [(None, 28, 28)]          0         \n",
      "_________________________________________________________________\n",
      "reshape_5 (Reshape)          (None, 28, 28, 1)         0         \n",
      "_________________________________________________________________\n",
      "conv2d_10 (Conv2D)           (None, 24, 24, 16)        416       \n",
      "_________________________________________________________________\n",
      "max_pooling2d_10 (MaxPooling (None, 8, 8, 16)          0         \n",
      "_________________________________________________________________\n",
      "batch_normalization_1 (Batch (None, 8, 8, 16)          64        \n",
      "_________________________________________________________________\n",
      "conv2d_11 (Conv2D)           (None, 6, 6, 16)          2320      \n",
      "_________________________________________________________________\n",
      "max_pooling2d_11 (MaxPooling (None, 3, 3, 16)          0         \n",
      "_________________________________________________________________\n",
      "flatten_5 (Flatten)          (None, 144)               0         \n",
      "_________________________________________________________________\n",
      "dense_10 (Dense)             (None, 128)               18560     \n",
      "_________________________________________________________________\n",
      "dropout_5 (Dropout)          (None, 128)               0         \n",
      "_________________________________________________________________\n",
      "dense_11 (Dense)             (None, 10)                1290      \n",
      "=================================================================\n",
      "Total params: 22,650\n",
      "Trainable params: 22,618\n",
      "Non-trainable params: 32\n",
      "_________________________________________________________________\n"
     ]
    }
   ],
   "source": [
    "# 指定输入图片的大小\n",
    "input_shape = (28, 28)\n",
    "input_layer = keras.layers.Input(input_shape)\n",
    "x = keras.layers.Reshape((28, 28, 1))(input_layer)\n",
    "x = keras.layers.Conv2D(16, (5, 5))(x)\n",
    "x = keras.layers.MaxPool2D((3, 3))(x)\n",
    "x = keras.layers.BatchNormalization()(x)\n",
    "x = keras.layers.Conv2D(16, (3, 3))(x)\n",
    "x = keras.layers.MaxPool2D((2, 2))(x)\n",
    "x = keras.layers.Flatten()(x)\n",
    "x = keras.layers.Dense(128, activation='selu')(x)\n",
    "x = keras.layers.Dropout(0.25)(x)\n",
    "x = keras.layers.Dense(10, activation='softmax')(x)\n",
    "\n",
    "model = keras.Model(input_layer, x)\n",
    "model.summary()"
   ]
  },
  {
   "cell_type": "code",
   "execution_count": 23,
   "metadata": {
    "ExecuteTime": {
     "end_time": "2020-11-16T00:05:45.248837Z",
     "start_time": "2020-11-16T00:05:45.209667Z"
    }
   },
   "outputs": [],
   "source": [
    "# 设置模型\n",
    "model.compile(loss=\"sparse_categorical_crossentropy\",\n",
    "              optimizer = keras.optimizers.Adam(),\n",
    "              metrics = [\"accuracy\"])"
   ]
  },
  {
   "cell_type": "code",
   "execution_count": 27,
   "metadata": {
    "ExecuteTime": {
     "end_time": "2020-11-16T00:27:44.563261Z",
     "start_time": "2020-11-16T00:26:35.647135Z"
    }
   },
   "outputs": [
    {
     "name": "stdout",
     "output_type": "stream",
     "text": [
      "Train on 60000 samples\n",
      "Epoch 1/20\n",
      "60000/60000 [==============================] - 4s 65us/sample - loss: 0.2823 - accuracy: 0.9100\n",
      "Epoch 2/20\n",
      "60000/60000 [==============================] - 3s 56us/sample - loss: 0.0857 - accuracy: 0.9732\n",
      "Epoch 3/20\n",
      "60000/60000 [==============================] - 3s 57us/sample - loss: 0.0666 - accuracy: 0.9791\n",
      "Epoch 4/20\n",
      "60000/60000 [==============================] - 3s 55us/sample - loss: 0.0546 - accuracy: 0.9828\n",
      "Epoch 5/20\n",
      "60000/60000 [==============================] - 3s 56us/sample - loss: 0.0475 - accuracy: 0.9853\n",
      "Epoch 6/20\n",
      "60000/60000 [==============================] - 3s 56us/sample - loss: 0.0420 - accuracy: 0.9869\n",
      "Epoch 7/20\n",
      "60000/60000 [==============================] - 3s 56us/sample - loss: 0.0373 - accuracy: 0.9881\n",
      "Epoch 8/20\n",
      "60000/60000 [==============================] - 3s 58us/sample - loss: 0.0355 - accuracy: 0.9882\n",
      "Epoch 9/20\n",
      "60000/60000 [==============================] - 3s 55us/sample - loss: 0.0318 - accuracy: 0.9896\n",
      "Epoch 10/20\n",
      "60000/60000 [==============================] - 3s 56us/sample - loss: 0.0294 - accuracy: 0.9902\n",
      "Epoch 11/20\n",
      "60000/60000 [==============================] - 3s 55us/sample - loss: 0.0259 - accuracy: 0.9916\n",
      "Epoch 12/20\n",
      "60000/60000 [==============================] - 3s 56us/sample - loss: 0.0277 - accuracy: 0.9908\n",
      "Epoch 13/20\n",
      "60000/60000 [==============================] - 3s 58us/sample - loss: 0.0223 - accuracy: 0.9925\n",
      "Epoch 14/20\n",
      "60000/60000 [==============================] - 3s 57us/sample - loss: 0.0222 - accuracy: 0.9924\n",
      "Epoch 15/20\n",
      "60000/60000 [==============================] - 4s 62us/sample - loss: 0.0204 - accuracy: 0.9932\n",
      "Epoch 16/20\n",
      "60000/60000 [==============================] - 4s 59us/sample - loss: 0.0198 - accuracy: 0.9937\n",
      "Epoch 17/20\n",
      "60000/60000 [==============================] - 3s 57us/sample - loss: 0.0185 - accuracy: 0.9943\n",
      "Epoch 18/20\n",
      "60000/60000 [==============================] - 4s 59us/sample - loss: 0.0172 - accuracy: 0.9941\n",
      "Epoch 19/20\n",
      "60000/60000 [==============================] - 3s 57us/sample - loss: 0.0171 - accuracy: 0.9942\n",
      "Epoch 20/20\n",
      "60000/60000 [==============================] - 4s 59us/sample - loss: 0.0154 - accuracy: 0.9947\n"
     ]
    },
    {
     "data": {
      "text/plain": [
       "<tensorflow.python.keras.callbacks.History at 0x1f76bb501c8>"
      ]
     },
     "execution_count": 27,
     "metadata": {},
     "output_type": "execute_result"
    }
   ],
   "source": [
    "# 训练模型\n",
    "model.fit(x_train, y_train, epochs=20, batch_size=128)\n"
   ]
  },
  {
   "cell_type": "code",
   "execution_count": 30,
   "metadata": {
    "ExecuteTime": {
     "end_time": "2020-11-16T00:29:09.227574Z",
     "start_time": "2020-11-16T00:29:08.274122Z"
    }
   },
   "outputs": [
    {
     "name": "stdout",
     "output_type": "stream",
     "text": [
      "10000/10000 [==============================] - 1s 92us/sample - loss: 0.0390 - accuracy: 0.9895\n"
     ]
    },
    {
     "data": {
      "text/plain": [
       "[0.038997153847097114, 0.9895]"
      ]
     },
     "execution_count": 30,
     "metadata": {},
     "output_type": "execute_result"
    }
   ],
   "source": [
    "# 查看对于训练集的预测分数\n",
    "model.evaluate(x_test, y_test)"
   ]
  },
  {
   "cell_type": "code",
   "execution_count": 50,
   "metadata": {
    "ExecuteTime": {
     "end_time": "2020-11-16T00:35:29.144933Z",
     "start_time": "2020-11-16T00:35:29.139935Z"
    }
   },
   "outputs": [],
   "source": [
    "# 定义函数查看每次卷积后的图像\n",
    "def plot_conv_output(featuremap):\n",
    "    num_filters = featuremap.shape[3]\n",
    "    num_grids = math.ceil(math.sqrt(num_filters))\n",
    "    fig, axes = plt.subplots(num_grids, num_grids)\n",
    "    for i, ax in enumerate(axes.flat):\n",
    "        if i < num_filters:\n",
    "            img = featuremap[0, :, :, i]\n",
    "            ax.imshow(img,\n",
    "                     interpolation='nearest',\n",
    "                     cmap='binary')\n",
    "        ax.set_yticks([])\n",
    "        ax.set_xticks([])\n",
    "    plt.show()"
   ]
  },
  {
   "cell_type": "code",
   "execution_count": 47,
   "metadata": {
    "ExecuteTime": {
     "end_time": "2020-11-16T00:34:48.302624Z",
     "start_time": "2020-11-16T00:34:48.282676Z"
    }
   },
   "outputs": [],
   "source": [
    "# 提取第一层卷积(包含输入)\n",
    "# 输入层\n",
    "layer_input = model.layers[0]\n",
    "# 第一层卷积\n",
    "layer_conv1 = model.layers[2]\n",
    "output_conv1 = keras.backend.function(inputs=[layer_input.input],\n",
    "                              outputs=[layer_conv1.output])"
   ]
  },
  {
   "cell_type": "code",
   "execution_count": 48,
   "metadata": {
    "ExecuteTime": {
     "end_time": "2020-11-16T00:34:48.680614Z",
     "start_time": "2020-11-16T00:34:48.660666Z"
    }
   },
   "outputs": [
    {
     "data": {
      "text/plain": [
       "(1, 24, 24, 16)"
      ]
     },
     "execution_count": 48,
     "metadata": {},
     "output_type": "execute_result"
    }
   ],
   "source": [
    "# 传入第一张图片并查看卷积后的图片\n",
    "conv1 = output_conv1([[x_train[0].reshape(1, 28, 28)]])[0]\n",
    "conv1.shape"
   ]
  },
  {
   "cell_type": "code",
   "execution_count": 51,
   "metadata": {
    "ExecuteTime": {
     "end_time": "2020-11-16T00:35:32.816351Z",
     "start_time": "2020-11-16T00:35:32.306687Z"
    }
   },
   "outputs": [
    {
     "data": {
      "image/png": "[encoded data removed]",
      "text/plain": [
       "<Figure size 432x288 with 16 Axes>"
      ]
     },
     "metadata": {},
     "output_type": "display_data"
    }
   ],
   "source": [
    "# 查看第一层卷积后的图片\n",
    "plot_conv_output(conv1)"
   ]
  },
  {
   "cell_type": "code",
   "execution_count": 52,
   "metadata": {
    "ExecuteTime": {
     "end_time": "2020-11-16T00:36:49.910874Z",
     "start_time": "2020-11-16T00:36:49.321449Z"
    }
   },
   "outputs": [
    {
     "data": {
      "image/png": "[encoded data removed]",
      "text/plain": [
       "<Figure size 432x288 with 16 Axes>"
      ]
     },
     "metadata": {},
     "output_type": "display_data"
    }
   ],
   "source": [
    "# 查看第二层卷积的效果\n",
    "# 第一层卷积\n",
    "layer_conv2 = model.layers[5]\n",
    "output_conv2 = keras.backend.function(inputs=[layer_input.input],\n",
    "                              outputs=[layer_conv2.output])\n",
    "# 传入第一张图片并查看卷积后的图片\n",
    "conv2 = output_conv2([[x_train[0].reshape(1, 28, 28)]])[0]\n",
    "# 查看第一层卷积后的图片\n",
    "plot_conv_output(conv2)"
   ]
  },
  {
   "cell_type": "code",
   "execution_count": null,
   "metadata": {},
   "outputs": [],
   "source": []
  }
 ],
 "metadata": {
  "kernelspec": {
   "display_name": "tensorflow",
   "language": "python",
   "name": "tensorflow"
  },
  "language_info": {
   "codemirror_mode": {
    "name": "ipython",
    "version": 3
   },
   "file_extension": ".py",
   "mimetype": "text/x-python",
   "name": "python",
   "nbconvert_exporter": "python",
   "pygments_lexer": "ipython3",
   "version": "3.7.9"
  },
  "latex_envs": {
   "LaTeX_envs_menu_present": true,
   "autoclose": false,
   "autocomplete": true,
   "bibliofile": "biblio.bib",
   "cite_by": "apalike",
   "current_citInitial": 1,
   "eqLabelWithNumbers": true,
   "eqNumInitial": 1,
   "hotkeys": {
    "equation": "Ctrl-E",
    "itemize": "Ctrl-I"
   },
   "labels_anchors": false,
   "latex_user_defs": false,
   "report_style_numbering": false,
   "user_envs_cfg": false
  },
  "toc": {
   "base_numbering": 1,
   "nav_menu": {},
   "number_sections": true,
   "sideBar": true,
   "skip_h1_title": false,
   "title_cell": "Table of Contents",
   "title_sidebar": "Contents",
   "toc_cell": false,
   "toc_position": {},
   "toc_section_display": true,
   "toc_window_display": false
  }
 },
 "nbformat": 4,
 "nbformat_minor": 4
}
